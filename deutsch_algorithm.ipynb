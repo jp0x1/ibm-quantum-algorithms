{
 "cells": [
  {
   "cell_type": "markdown",
   "metadata": {},
   "source": [
    "# Analysis of Deutsh's algorithm\n",
    "\n",
    "Deutsch's Problem\n",
    "\n",
    "Input: a function f: {0,1} -> {0,1}\n",
    "Output 0 if f is constant, 1 if f is balanced\n",
    "\n"
   ]
  },
  {
   "cell_type": "code",
   "execution_count": 4,
   "metadata": {},
   "outputs": [
    {
     "data": {
      "text/html": [
       "<pre style=\"word-wrap: normal;white-space: pre;background: #fff0;line-height: 1.1;font-family: &quot;Courier New&quot;,Courier,monospace\">               \n",
       "q_0: ──■───────\n",
       "     ┌─┴─┐┌───┐\n",
       "q_1: ┤ X ├┤ X ├\n",
       "     └───┘└───┘</pre>"
      ],
      "text/plain": [
       "               \n",
       "q_0: ──■───────\n",
       "     ┌─┴─┐┌───┐\n",
       "q_1: ┤ X ├┤ X ├\n",
       "     └───┘└───┘"
      ]
     },
     "metadata": {},
     "output_type": "display_data"
    }
   ],
   "source": [
    "from qiskit import QuantumCircuit\n",
    "\n",
    "def deutsch_function(case: int):\n",
    "    #generate a valid deutsch function as a quantum circuit\n",
    "    if case not in [1,2,3,4]:\n",
    "        raise ValueError(\"`case` must be 1,2,3, or 4.\")\n",
    "    f = QuantumCircuit(2)\n",
    "    if case in [2, 3]:\n",
    "        f.cx(0, 1)\n",
    "    if case in [3, 4]:\n",
    "        f.x(1)\n",
    "    return f\n",
    "display(deutsch_function(3).draw())"
   ]
  },
  {
   "cell_type": "code",
   "execution_count": 5,
   "metadata": {},
   "outputs": [
    {
     "data": {
      "text/html": [
       "<pre style=\"word-wrap: normal;white-space: pre;background: #fff0;line-height: 1.1;font-family: &quot;Courier New&quot;,Courier,monospace\">     ┌───┐      ░            ░ ┌───┐┌─┐\n",
       "q_0: ┤ H ├──────░───■────────░─┤ H ├┤M├\n",
       "     ├───┤┌───┐ ░ ┌─┴─┐┌───┐ ░ └───┘└╥┘\n",
       "q_1: ┤ X ├┤ H ├─░─┤ X ├┤ X ├─░───────╫─\n",
       "     └───┘└───┘ ░ └───┘└───┘ ░       ║ \n",
       "c: 1/════════════════════════════════╩═\n",
       "                                     0 </pre>"
      ],
      "text/plain": [
       "     ┌───┐      ░            ░ ┌───┐┌─┐\n",
       "q_0: ┤ H ├──────░───■────────░─┤ H ├┤M├\n",
       "     ├───┤┌───┐ ░ ┌─┴─┐┌───┐ ░ └───┘└╥┘\n",
       "q_1: ┤ X ├┤ H ├─░─┤ X ├┤ X ├─░───────╫─\n",
       "     └───┘└───┘ ░ └───┘└───┘ ░       ║ \n",
       "c: 1/════════════════════════════════╩═\n",
       "                                     0 "
      ]
     },
     "metadata": {},
     "output_type": "display_data"
    }
   ],
   "source": [
    "def compile_circuit(function: QuantumCircuit):\n",
    "    #compiles circuit for use in Deutsch's algorithm\n",
    "    n = function.num_qubits - 1\n",
    "    qc = QuantumCircuit(n+1, n)\n",
    "\n",
    "    qc.x(n)\n",
    "    qc.h(range(n+1))\n",
    "\n",
    "    qc.barrier()\n",
    "    qc.compose(function, inplace=True)\n",
    "    qc.barrier()\n",
    "\n",
    "    qc.h(range(n))\n",
    "    qc.measure(range(n), range(n))\n",
    "\n",
    "    return qc\n",
    "\n",
    "display(compile_circuit(deutsch_function(3)).draw())"
   ]
  },
  {
   "cell_type": "code",
   "execution_count": 10,
   "metadata": {},
   "outputs": [
    {
     "data": {
      "text/html": [
       "<pre style=\"word-wrap: normal;white-space: pre;background: #fff0;line-height: 1.1;font-family: &quot;Courier New&quot;,Courier,monospace\">          \n",
       "q_0: ─────\n",
       "     ┌───┐\n",
       "q_1: ┤ X ├\n",
       "     └───┘</pre>"
      ],
      "text/plain": [
       "          \n",
       "q_0: ─────\n",
       "     ┌───┐\n",
       "q_1: ┤ X ├\n",
       "     └───┘"
      ]
     },
     "metadata": {},
     "output_type": "display_data"
    },
    {
     "data": {
      "text/plain": [
       "'constant'"
      ]
     },
     "metadata": {},
     "output_type": "display_data"
    }
   ],
   "source": [
    "from qiskit_aer import AerSimulator\n",
    "\n",
    "def deutsch_algorithm(function: QuantumCircuit):\n",
    "    #determine if deutsch function is constant or balanced\n",
    "    qc = compile_circuit(function)\n",
    "\n",
    "    result = AerSimulator().run(qc, shots=1, memory=True).result()\n",
    "    measurements = result.get_memory()\n",
    "    if measurements[0] == \"0\":\n",
    "        return \"constant\"\n",
    "    return \"balanced\"\n",
    "f = deutsch_function(4)\n",
    "display(f.draw())\n",
    "display(deutsch_algorithm(f))"
   ]
  }
 ],
 "metadata": {
  "kernelspec": {
   "display_name": "Python 3",
   "language": "python",
   "name": "python3"
  },
  "language_info": {
   "codemirror_mode": {
    "name": "ipython",
    "version": 3
   },
   "file_extension": ".py",
   "mimetype": "text/x-python",
   "name": "python",
   "nbconvert_exporter": "python",
   "pygments_lexer": "ipython3",
   "version": "3.10.12"
  },
  "orig_nbformat": 4
 },
 "nbformat": 4,
 "nbformat_minor": 2
}
